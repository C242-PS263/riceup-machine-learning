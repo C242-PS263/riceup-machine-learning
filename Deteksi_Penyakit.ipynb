{
  "nbformat": 4,
  "nbformat_minor": 0,
  "metadata": {
    "colab": {
      "provenance": []
    },
    "kernelspec": {
      "name": "python3",
      "display_name": "Python 3"
    },
    "language_info": {
      "name": "python"
    }
  },
  "cells": [
    {
      "cell_type": "markdown",
      "source": [
        "Dataset Download"
      ],
      "metadata": {
        "id": "o4BwtNpcGpC3"
      }
    },
    {
      "cell_type": "code",
      "execution_count": null,
      "metadata": {
        "id": "_5yD7qR_Gi7G"
      },
      "outputs": [],
      "source": [
        "!pip install -q kaggle"
      ]
    },
    {
      "cell_type": "code",
      "source": [
        "!mkdir ~/.kaggle"
      ],
      "metadata": {
        "id": "R1pkuXNaHWq5"
      },
      "execution_count": null,
      "outputs": []
    },
    {
      "cell_type": "code",
      "source": [
        "!cp kaggle.json ~/.kaggle"
      ],
      "metadata": {
        "id": "tmUMjXdDHYbJ",
        "outputId": "2806a93f-c6c5-4bc9-b9c7-2ee047e63d34",
        "colab": {
          "base_uri": "https://localhost:8080/"
        }
      },
      "execution_count": null,
      "outputs": [
        {
          "output_type": "stream",
          "name": "stdout",
          "text": [
            "cp: cannot stat 'kaggle.json': No such file or directory\n"
          ]
        }
      ]
    },
    {
      "cell_type": "code",
      "source": [
        "!chmod 600 ~/.kaggle/kaggle.json"
      ],
      "metadata": {
        "id": "R_hfYtkuHw44",
        "colab": {
          "base_uri": "https://localhost:8080/"
        },
        "outputId": "d6f817e0-c691-4c8b-e82c-b18577fc18ea"
      },
      "execution_count": null,
      "outputs": [
        {
          "output_type": "stream",
          "name": "stdout",
          "text": [
            "chmod: cannot access '/root/.kaggle/kaggle.json': No such file or directory\n"
          ]
        }
      ]
    },
    {
      "cell_type": "code",
      "source": [
        "!kaggle datasets download -d 'nirmalsankalana/rice-leaf-disease-image'"
      ],
      "metadata": {
        "colab": {
          "base_uri": "https://localhost:8080/"
        },
        "id": "L4hH07ciH4co",
        "outputId": "c259283d-68f3-4628-9107-224d3e824268"
      },
      "execution_count": null,
      "outputs": [
        {
          "output_type": "stream",
          "name": "stdout",
          "text": [
            "Dataset URL: https://www.kaggle.com/datasets/nirmalsankalana/rice-leaf-disease-image\n",
            "License(s): CC0-1.0\n",
            "Downloading rice-leaf-disease-image.zip to /content\n",
            " 99% 194M/195M [00:01<00:00, 205MB/s]\n",
            "100% 195M/195M [00:01<00:00, 164MB/s]\n"
          ]
        }
      ]
    },
    {
      "cell_type": "markdown",
      "source": [
        "Extract Dataset"
      ],
      "metadata": {
        "id": "lJbVFIHwICNo"
      }
    },
    {
      "cell_type": "code",
      "source": [
        "import zipfile"
      ],
      "metadata": {
        "id": "SQd2vATUILUB"
      },
      "execution_count": null,
      "outputs": []
    },
    {
      "cell_type": "code",
      "source": [
        "dataset_zip = zipfile.ZipFile('rice-leaf-disease-image.zip','r')\n",
        "dataset_zip.extractall('rice-leaf-disease-image')\n",
        "dataset_zip.close()"
      ],
      "metadata": {
        "id": "9MxHNBd0IbFo"
      },
      "execution_count": null,
      "outputs": []
    },
    {
      "cell_type": "code",
      "source": [
        "import tensorflow as tf\n"
      ],
      "metadata": {
        "id": "WsoPwyl5bvNS"
      },
      "execution_count": null,
      "outputs": []
    }
  ]
}